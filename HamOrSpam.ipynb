{
  "nbformat": 4,
  "nbformat_minor": 0,
  "metadata": {
    "colab": {
      "name": "HamOrSpam.ipynb",
      "provenance": []
    },
    "kernelspec": {
      "name": "python3",
      "display_name": "Python 3"
    }
  },
  "cells": [
    {
      "cell_type": "code",
      "metadata": {
        "id": "3OmniKPpwmu9",
        "colab_type": "code",
        "colab": {
          "base_uri": "https://localhost:8080/",
          "height": 302
        },
        "outputId": "dddcd757-e6e9-4e9f-a053-e291ff619232"
      },
      "source": [
        "import pandas as pd\n",
        "import numpy as np\n",
        "import seaborn as sns\n",
        "import matplotlib.pyplot as plt\n",
        "\n",
        "from nltk import pos_tag\n",
        "from nltk.stem import WordNetLemmatizer\n",
        "from nltk.corpus import wordnet,stopwords\n",
        "from nltk import word_tokenize,sent_tokenize\n",
        "import nltk\n",
        "\n",
        "from sklearn.feature_extraction.text import TfidfVectorizer\n",
        "from sklearn.model_selection import train_test_split,RandomizedSearchCV\n",
        "from sklearn.ensemble import RandomForestClassifier,AdaBoostClassifier\n",
        "from sklearn.tree import DecisionTreeClassifier\n",
        "from sklearn.naive_bayes import MultinomialNB\n",
        "from sklearn.linear_model import LogisticRegression\n",
        "from sklearn.svm import SVC\n",
        "from sklearn.metrics import accuracy_score,f1_score,precision_score,confusion_matrix,classification_report\n",
        "\n",
        "from xgboost import XGBClassifier\n",
        "\n",
        "from imblearn.over_sampling import SMOTE\n",
        "\n",
        "nltk.download('punkt')\n",
        "nltk.download('averaged_perceptron_tagger')\n",
        "nltk.download('stopwords')\n",
        "nltk.download('wordnet')\n",
        "\n",
        "import re\n",
        "import pickle\n",
        "\n",
        "\n",
        "%matplotlib inline"
      ],
      "execution_count": null,
      "outputs": [
        {
          "output_type": "stream",
          "text": [
            "/usr/local/lib/python3.6/dist-packages/statsmodels/tools/_testing.py:19: FutureWarning: pandas.util.testing is deprecated. Use the functions in the public API at pandas.testing instead.\n",
            "  import pandas.util.testing as tm\n"
          ],
          "name": "stderr"
        },
        {
          "output_type": "stream",
          "text": [
            "[nltk_data] Downloading package punkt to /root/nltk_data...\n",
            "[nltk_data]   Package punkt is already up-to-date!\n",
            "[nltk_data] Downloading package averaged_perceptron_tagger to\n",
            "[nltk_data]     /root/nltk_data...\n",
            "[nltk_data]   Package averaged_perceptron_tagger is already up-to-\n",
            "[nltk_data]       date!\n",
            "[nltk_data] Downloading package stopwords to /root/nltk_data...\n",
            "[nltk_data]   Package stopwords is already up-to-date!\n",
            "[nltk_data] Downloading package wordnet to /root/nltk_data...\n",
            "[nltk_data]   Package wordnet is already up-to-date!\n"
          ],
          "name": "stdout"
        },
        {
          "output_type": "stream",
          "text": [
            "/usr/local/lib/python3.6/dist-packages/sklearn/externals/six.py:31: FutureWarning: The module is deprecated in version 0.21 and will be removed in version 0.23 since we've dropped support for Python 2.7. Please rely on the official version of six (https://pypi.org/project/six/).\n",
            "  \"(https://pypi.org/project/six/).\", FutureWarning)\n",
            "/usr/local/lib/python3.6/dist-packages/sklearn/utils/deprecation.py:144: FutureWarning: The sklearn.neighbors.base module is  deprecated in version 0.22 and will be removed in version 0.24. The corresponding classes / functions should instead be imported from sklearn.neighbors. Anything that cannot be imported from sklearn.neighbors is now part of the private API.\n",
            "  warnings.warn(message, FutureWarning)\n"
          ],
          "name": "stderr"
        }
      ]
    },
    {
      "cell_type": "code",
      "metadata": {
        "id": "10PPwp2kxEVx",
        "colab_type": "code",
        "colab": {}
      },
      "source": [
        "data = pd.read_csv(\"/content/drive/My Drive/ColabDataset/HamOrSpam/SpamOrHam.csv\",encoding = \"ISO-8859-1\")"
      ],
      "execution_count": null,
      "outputs": []
    },
    {
      "cell_type": "code",
      "metadata": {
        "id": "_xQkvPVtxQTj",
        "colab_type": "code",
        "colab": {
          "base_uri": "https://localhost:8080/",
          "height": 374
        },
        "outputId": "9044c1e5-cc4c-41ca-ab2b-b6109ba00535"
      },
      "source": [
        "data.head(10)"
      ],
      "execution_count": null,
      "outputs": [
        {
          "output_type": "execute_result",
          "data": {
            "text/html": [
              "<div>\n",
              "<style scoped>\n",
              "    .dataframe tbody tr th:only-of-type {\n",
              "        vertical-align: middle;\n",
              "    }\n",
              "\n",
              "    .dataframe tbody tr th {\n",
              "        vertical-align: top;\n",
              "    }\n",
              "\n",
              "    .dataframe thead th {\n",
              "        text-align: right;\n",
              "    }\n",
              "</style>\n",
              "<table border=\"1\" class=\"dataframe\">\n",
              "  <thead>\n",
              "    <tr style=\"text-align: right;\">\n",
              "      <th></th>\n",
              "      <th>v1</th>\n",
              "      <th>v2</th>\n",
              "      <th>Unnamed: 2</th>\n",
              "      <th>Unnamed: 3</th>\n",
              "      <th>Unnamed: 4</th>\n",
              "    </tr>\n",
              "  </thead>\n",
              "  <tbody>\n",
              "    <tr>\n",
              "      <th>0</th>\n",
              "      <td>ham</td>\n",
              "      <td>Go until jurong point, crazy.. Available only ...</td>\n",
              "      <td>NaN</td>\n",
              "      <td>NaN</td>\n",
              "      <td>NaN</td>\n",
              "    </tr>\n",
              "    <tr>\n",
              "      <th>1</th>\n",
              "      <td>ham</td>\n",
              "      <td>Ok lar... Joking wif u oni...</td>\n",
              "      <td>NaN</td>\n",
              "      <td>NaN</td>\n",
              "      <td>NaN</td>\n",
              "    </tr>\n",
              "    <tr>\n",
              "      <th>2</th>\n",
              "      <td>spam</td>\n",
              "      <td>Free entry in 2 a wkly comp to win FA Cup fina...</td>\n",
              "      <td>NaN</td>\n",
              "      <td>NaN</td>\n",
              "      <td>NaN</td>\n",
              "    </tr>\n",
              "    <tr>\n",
              "      <th>3</th>\n",
              "      <td>ham</td>\n",
              "      <td>U dun say so early hor... U c already then say...</td>\n",
              "      <td>NaN</td>\n",
              "      <td>NaN</td>\n",
              "      <td>NaN</td>\n",
              "    </tr>\n",
              "    <tr>\n",
              "      <th>4</th>\n",
              "      <td>ham</td>\n",
              "      <td>Nah I don't think he goes to usf, he lives aro...</td>\n",
              "      <td>NaN</td>\n",
              "      <td>NaN</td>\n",
              "      <td>NaN</td>\n",
              "    </tr>\n",
              "    <tr>\n",
              "      <th>5</th>\n",
              "      <td>spam</td>\n",
              "      <td>FreeMsg Hey there darling it's been 3 week's n...</td>\n",
              "      <td>NaN</td>\n",
              "      <td>NaN</td>\n",
              "      <td>NaN</td>\n",
              "    </tr>\n",
              "    <tr>\n",
              "      <th>6</th>\n",
              "      <td>ham</td>\n",
              "      <td>Even my brother is not like to speak with me. ...</td>\n",
              "      <td>NaN</td>\n",
              "      <td>NaN</td>\n",
              "      <td>NaN</td>\n",
              "    </tr>\n",
              "    <tr>\n",
              "      <th>7</th>\n",
              "      <td>ham</td>\n",
              "      <td>As per your request 'Melle Melle (Oru Minnamin...</td>\n",
              "      <td>NaN</td>\n",
              "      <td>NaN</td>\n",
              "      <td>NaN</td>\n",
              "    </tr>\n",
              "    <tr>\n",
              "      <th>8</th>\n",
              "      <td>spam</td>\n",
              "      <td>WINNER!! As a valued network customer you have...</td>\n",
              "      <td>NaN</td>\n",
              "      <td>NaN</td>\n",
              "      <td>NaN</td>\n",
              "    </tr>\n",
              "    <tr>\n",
              "      <th>9</th>\n",
              "      <td>spam</td>\n",
              "      <td>Had your mobile 11 months or more? U R entitle...</td>\n",
              "      <td>NaN</td>\n",
              "      <td>NaN</td>\n",
              "      <td>NaN</td>\n",
              "    </tr>\n",
              "  </tbody>\n",
              "</table>\n",
              "</div>"
            ],
            "text/plain": [
              "     v1  ... Unnamed: 4\n",
              "0   ham  ...        NaN\n",
              "1   ham  ...        NaN\n",
              "2  spam  ...        NaN\n",
              "3   ham  ...        NaN\n",
              "4   ham  ...        NaN\n",
              "5  spam  ...        NaN\n",
              "6   ham  ...        NaN\n",
              "7   ham  ...        NaN\n",
              "8  spam  ...        NaN\n",
              "9  spam  ...        NaN\n",
              "\n",
              "[10 rows x 5 columns]"
            ]
          },
          "metadata": {
            "tags": []
          },
          "execution_count": 7
        }
      ]
    },
    {
      "cell_type": "code",
      "metadata": {
        "id": "Knv4uy5SxeRp",
        "colab_type": "code",
        "colab": {
          "base_uri": "https://localhost:8080/",
          "height": 374
        },
        "outputId": "18728208-49e9-42b3-96dc-0a1d598eff5d"
      },
      "source": [
        "data.tail(10)"
      ],
      "execution_count": null,
      "outputs": [
        {
          "output_type": "execute_result",
          "data": {
            "text/html": [
              "<div>\n",
              "<style scoped>\n",
              "    .dataframe tbody tr th:only-of-type {\n",
              "        vertical-align: middle;\n",
              "    }\n",
              "\n",
              "    .dataframe tbody tr th {\n",
              "        vertical-align: top;\n",
              "    }\n",
              "\n",
              "    .dataframe thead th {\n",
              "        text-align: right;\n",
              "    }\n",
              "</style>\n",
              "<table border=\"1\" class=\"dataframe\">\n",
              "  <thead>\n",
              "    <tr style=\"text-align: right;\">\n",
              "      <th></th>\n",
              "      <th>v1</th>\n",
              "      <th>v2</th>\n",
              "      <th>Unnamed: 2</th>\n",
              "      <th>Unnamed: 3</th>\n",
              "      <th>Unnamed: 4</th>\n",
              "    </tr>\n",
              "  </thead>\n",
              "  <tbody>\n",
              "    <tr>\n",
              "      <th>5562</th>\n",
              "      <td>ham</td>\n",
              "      <td>Ok lor... Sony ericsson salesman... I ask shuh...</td>\n",
              "      <td>NaN</td>\n",
              "      <td>NaN</td>\n",
              "      <td>NaN</td>\n",
              "    </tr>\n",
              "    <tr>\n",
              "      <th>5563</th>\n",
              "      <td>ham</td>\n",
              "      <td>Ard 6 like dat lor.</td>\n",
              "      <td>NaN</td>\n",
              "      <td>NaN</td>\n",
              "      <td>NaN</td>\n",
              "    </tr>\n",
              "    <tr>\n",
              "      <th>5564</th>\n",
              "      <td>ham</td>\n",
              "      <td>Why don't you wait 'til at least wednesday to ...</td>\n",
              "      <td>NaN</td>\n",
              "      <td>NaN</td>\n",
              "      <td>NaN</td>\n",
              "    </tr>\n",
              "    <tr>\n",
              "      <th>5565</th>\n",
              "      <td>ham</td>\n",
              "      <td>Huh y lei...</td>\n",
              "      <td>NaN</td>\n",
              "      <td>NaN</td>\n",
              "      <td>NaN</td>\n",
              "    </tr>\n",
              "    <tr>\n",
              "      <th>5566</th>\n",
              "      <td>spam</td>\n",
              "      <td>REMINDER FROM O2: To get 2.50 pounds free call...</td>\n",
              "      <td>NaN</td>\n",
              "      <td>NaN</td>\n",
              "      <td>NaN</td>\n",
              "    </tr>\n",
              "    <tr>\n",
              "      <th>5567</th>\n",
              "      <td>spam</td>\n",
              "      <td>This is the 2nd time we have tried 2 contact u...</td>\n",
              "      <td>NaN</td>\n",
              "      <td>NaN</td>\n",
              "      <td>NaN</td>\n",
              "    </tr>\n",
              "    <tr>\n",
              "      <th>5568</th>\n",
              "      <td>ham</td>\n",
              "      <td>Will Ì_ b going to esplanade fr home?</td>\n",
              "      <td>NaN</td>\n",
              "      <td>NaN</td>\n",
              "      <td>NaN</td>\n",
              "    </tr>\n",
              "    <tr>\n",
              "      <th>5569</th>\n",
              "      <td>ham</td>\n",
              "      <td>Pity, * was in mood for that. So...any other s...</td>\n",
              "      <td>NaN</td>\n",
              "      <td>NaN</td>\n",
              "      <td>NaN</td>\n",
              "    </tr>\n",
              "    <tr>\n",
              "      <th>5570</th>\n",
              "      <td>ham</td>\n",
              "      <td>The guy did some bitching but I acted like i'd...</td>\n",
              "      <td>NaN</td>\n",
              "      <td>NaN</td>\n",
              "      <td>NaN</td>\n",
              "    </tr>\n",
              "    <tr>\n",
              "      <th>5571</th>\n",
              "      <td>ham</td>\n",
              "      <td>Rofl. Its true to its name</td>\n",
              "      <td>NaN</td>\n",
              "      <td>NaN</td>\n",
              "      <td>NaN</td>\n",
              "    </tr>\n",
              "  </tbody>\n",
              "</table>\n",
              "</div>"
            ],
            "text/plain": [
              "        v1  ... Unnamed: 4\n",
              "5562   ham  ...        NaN\n",
              "5563   ham  ...        NaN\n",
              "5564   ham  ...        NaN\n",
              "5565   ham  ...        NaN\n",
              "5566  spam  ...        NaN\n",
              "5567  spam  ...        NaN\n",
              "5568   ham  ...        NaN\n",
              "5569   ham  ...        NaN\n",
              "5570   ham  ...        NaN\n",
              "5571   ham  ...        NaN\n",
              "\n",
              "[10 rows x 5 columns]"
            ]
          },
          "metadata": {
            "tags": []
          },
          "execution_count": 8
        }
      ]
    },
    {
      "cell_type": "code",
      "metadata": {
        "id": "0RZP6Teyxfva",
        "colab_type": "code",
        "colab": {
          "base_uri": "https://localhost:8080/",
          "height": 236
        },
        "outputId": "7d545226-585f-4273-9aac-ba445f05ba85"
      },
      "source": [
        "data.info()"
      ],
      "execution_count": null,
      "outputs": [
        {
          "output_type": "stream",
          "text": [
            "<class 'pandas.core.frame.DataFrame'>\n",
            "RangeIndex: 5572 entries, 0 to 5571\n",
            "Data columns (total 5 columns):\n",
            " #   Column      Non-Null Count  Dtype \n",
            "---  ------      --------------  ----- \n",
            " 0   v1          5572 non-null   object\n",
            " 1   v2          5572 non-null   object\n",
            " 2   Unnamed: 2  50 non-null     object\n",
            " 3   Unnamed: 3  12 non-null     object\n",
            " 4   Unnamed: 4  6 non-null      object\n",
            "dtypes: object(5)\n",
            "memory usage: 217.8+ KB\n"
          ],
          "name": "stdout"
        }
      ]
    },
    {
      "cell_type": "code",
      "metadata": {
        "id": "TheHGScrxhPO",
        "colab_type": "code",
        "colab": {
          "base_uri": "https://localhost:8080/",
          "height": 120
        },
        "outputId": "c0af29df-a768-407e-9486-d6d1f32cf192"
      },
      "source": [
        "spam= data[['v1','v2']]\n",
        "spam.rename(columns ={'v1':'Label','v2':'Text'}, inplace=True)"
      ],
      "execution_count": null,
      "outputs": [
        {
          "output_type": "stream",
          "text": [
            "/usr/local/lib/python3.6/dist-packages/pandas/core/frame.py:4133: SettingWithCopyWarning: \n",
            "A value is trying to be set on a copy of a slice from a DataFrame\n",
            "\n",
            "See the caveats in the documentation: https://pandas.pydata.org/pandas-docs/stable/user_guide/indexing.html#returning-a-view-versus-a-copy\n",
            "  errors=errors,\n"
          ],
          "name": "stderr"
        }
      ]
    },
    {
      "cell_type": "code",
      "metadata": {
        "id": "5f6NLEchxrKs",
        "colab_type": "code",
        "colab": {
          "base_uri": "https://localhost:8080/",
          "height": 374
        },
        "outputId": "2edff4e2-5122-4e95-e39f-e67d6a1a9e8a"
      },
      "source": [
        "spam.head(10)"
      ],
      "execution_count": null,
      "outputs": [
        {
          "output_type": "execute_result",
          "data": {
            "text/html": [
              "<div>\n",
              "<style scoped>\n",
              "    .dataframe tbody tr th:only-of-type {\n",
              "        vertical-align: middle;\n",
              "    }\n",
              "\n",
              "    .dataframe tbody tr th {\n",
              "        vertical-align: top;\n",
              "    }\n",
              "\n",
              "    .dataframe thead th {\n",
              "        text-align: right;\n",
              "    }\n",
              "</style>\n",
              "<table border=\"1\" class=\"dataframe\">\n",
              "  <thead>\n",
              "    <tr style=\"text-align: right;\">\n",
              "      <th></th>\n",
              "      <th>Label</th>\n",
              "      <th>Text</th>\n",
              "    </tr>\n",
              "  </thead>\n",
              "  <tbody>\n",
              "    <tr>\n",
              "      <th>0</th>\n",
              "      <td>ham</td>\n",
              "      <td>Go until jurong point, crazy.. Available only ...</td>\n",
              "    </tr>\n",
              "    <tr>\n",
              "      <th>1</th>\n",
              "      <td>ham</td>\n",
              "      <td>Ok lar... Joking wif u oni...</td>\n",
              "    </tr>\n",
              "    <tr>\n",
              "      <th>2</th>\n",
              "      <td>spam</td>\n",
              "      <td>Free entry in 2 a wkly comp to win FA Cup fina...</td>\n",
              "    </tr>\n",
              "    <tr>\n",
              "      <th>3</th>\n",
              "      <td>ham</td>\n",
              "      <td>U dun say so early hor... U c already then say...</td>\n",
              "    </tr>\n",
              "    <tr>\n",
              "      <th>4</th>\n",
              "      <td>ham</td>\n",
              "      <td>Nah I don't think he goes to usf, he lives aro...</td>\n",
              "    </tr>\n",
              "    <tr>\n",
              "      <th>5</th>\n",
              "      <td>spam</td>\n",
              "      <td>FreeMsg Hey there darling it's been 3 week's n...</td>\n",
              "    </tr>\n",
              "    <tr>\n",
              "      <th>6</th>\n",
              "      <td>ham</td>\n",
              "      <td>Even my brother is not like to speak with me. ...</td>\n",
              "    </tr>\n",
              "    <tr>\n",
              "      <th>7</th>\n",
              "      <td>ham</td>\n",
              "      <td>As per your request 'Melle Melle (Oru Minnamin...</td>\n",
              "    </tr>\n",
              "    <tr>\n",
              "      <th>8</th>\n",
              "      <td>spam</td>\n",
              "      <td>WINNER!! As a valued network customer you have...</td>\n",
              "    </tr>\n",
              "    <tr>\n",
              "      <th>9</th>\n",
              "      <td>spam</td>\n",
              "      <td>Had your mobile 11 months or more? U R entitle...</td>\n",
              "    </tr>\n",
              "  </tbody>\n",
              "</table>\n",
              "</div>"
            ],
            "text/plain": [
              "  Label                                               Text\n",
              "0   ham  Go until jurong point, crazy.. Available only ...\n",
              "1   ham                      Ok lar... Joking wif u oni...\n",
              "2  spam  Free entry in 2 a wkly comp to win FA Cup fina...\n",
              "3   ham  U dun say so early hor... U c already then say...\n",
              "4   ham  Nah I don't think he goes to usf, he lives aro...\n",
              "5  spam  FreeMsg Hey there darling it's been 3 week's n...\n",
              "6   ham  Even my brother is not like to speak with me. ...\n",
              "7   ham  As per your request 'Melle Melle (Oru Minnamin...\n",
              "8  spam  WINNER!! As a valued network customer you have...\n",
              "9  spam  Had your mobile 11 months or more? U R entitle..."
            ]
          },
          "metadata": {
            "tags": []
          },
          "execution_count": 11
        }
      ]
    },
    {
      "cell_type": "code",
      "metadata": {
        "id": "48mE1Yz3-GWw",
        "colab_type": "code",
        "colab": {
          "base_uri": "https://localhost:8080/",
          "height": 137
        },
        "outputId": "443dcea7-101e-4c9c-9997-8479dc67d8d4"
      },
      "source": [
        "spam['Label'] = spam['Label'].map({'ham':0,'spam':1})"
      ],
      "execution_count": null,
      "outputs": [
        {
          "output_type": "stream",
          "text": [
            "/usr/local/lib/python3.6/dist-packages/ipykernel_launcher.py:1: SettingWithCopyWarning: \n",
            "A value is trying to be set on a copy of a slice from a DataFrame.\n",
            "Try using .loc[row_indexer,col_indexer] = value instead\n",
            "\n",
            "See the caveats in the documentation: https://pandas.pydata.org/pandas-docs/stable/user_guide/indexing.html#returning-a-view-versus-a-copy\n",
            "  \"\"\"Entry point for launching an IPython kernel.\n"
          ],
          "name": "stderr"
        }
      ]
    },
    {
      "cell_type": "code",
      "metadata": {
        "id": "aiDa49rp-R-T",
        "colab_type": "code",
        "colab": {
          "base_uri": "https://localhost:8080/",
          "height": 433
        },
        "outputId": "a300e3f7-ad60-45db-a5dc-0850605d2464"
      },
      "source": [
        "spam"
      ],
      "execution_count": null,
      "outputs": [
        {
          "output_type": "execute_result",
          "data": {
            "text/html": [
              "<div>\n",
              "<style scoped>\n",
              "    .dataframe tbody tr th:only-of-type {\n",
              "        vertical-align: middle;\n",
              "    }\n",
              "\n",
              "    .dataframe tbody tr th {\n",
              "        vertical-align: top;\n",
              "    }\n",
              "\n",
              "    .dataframe thead th {\n",
              "        text-align: right;\n",
              "    }\n",
              "</style>\n",
              "<table border=\"1\" class=\"dataframe\">\n",
              "  <thead>\n",
              "    <tr style=\"text-align: right;\">\n",
              "      <th></th>\n",
              "      <th>Label</th>\n",
              "      <th>Text</th>\n",
              "    </tr>\n",
              "  </thead>\n",
              "  <tbody>\n",
              "    <tr>\n",
              "      <th>0</th>\n",
              "      <td>0</td>\n",
              "      <td>Go until jurong point, crazy.. Available only ...</td>\n",
              "    </tr>\n",
              "    <tr>\n",
              "      <th>1</th>\n",
              "      <td>0</td>\n",
              "      <td>Ok lar... Joking wif u oni...</td>\n",
              "    </tr>\n",
              "    <tr>\n",
              "      <th>2</th>\n",
              "      <td>1</td>\n",
              "      <td>Free entry in 2 a wkly comp to win FA Cup fina...</td>\n",
              "    </tr>\n",
              "    <tr>\n",
              "      <th>3</th>\n",
              "      <td>0</td>\n",
              "      <td>U dun say so early hor... U c already then say...</td>\n",
              "    </tr>\n",
              "    <tr>\n",
              "      <th>4</th>\n",
              "      <td>0</td>\n",
              "      <td>Nah I don't think he goes to usf, he lives aro...</td>\n",
              "    </tr>\n",
              "    <tr>\n",
              "      <th>...</th>\n",
              "      <td>...</td>\n",
              "      <td>...</td>\n",
              "    </tr>\n",
              "    <tr>\n",
              "      <th>5567</th>\n",
              "      <td>1</td>\n",
              "      <td>This is the 2nd time we have tried 2 contact u...</td>\n",
              "    </tr>\n",
              "    <tr>\n",
              "      <th>5568</th>\n",
              "      <td>0</td>\n",
              "      <td>Will Ì_ b going to esplanade fr home?</td>\n",
              "    </tr>\n",
              "    <tr>\n",
              "      <th>5569</th>\n",
              "      <td>0</td>\n",
              "      <td>Pity, * was in mood for that. So...any other s...</td>\n",
              "    </tr>\n",
              "    <tr>\n",
              "      <th>5570</th>\n",
              "      <td>0</td>\n",
              "      <td>The guy did some bitching but I acted like i'd...</td>\n",
              "    </tr>\n",
              "    <tr>\n",
              "      <th>5571</th>\n",
              "      <td>0</td>\n",
              "      <td>Rofl. Its true to its name</td>\n",
              "    </tr>\n",
              "  </tbody>\n",
              "</table>\n",
              "<p>5572 rows × 2 columns</p>\n",
              "</div>"
            ],
            "text/plain": [
              "      Label                                               Text\n",
              "0         0  Go until jurong point, crazy.. Available only ...\n",
              "1         0                      Ok lar... Joking wif u oni...\n",
              "2         1  Free entry in 2 a wkly comp to win FA Cup fina...\n",
              "3         0  U dun say so early hor... U c already then say...\n",
              "4         0  Nah I don't think he goes to usf, he lives aro...\n",
              "...     ...                                                ...\n",
              "5567      1  This is the 2nd time we have tried 2 contact u...\n",
              "5568      0              Will Ì_ b going to esplanade fr home?\n",
              "5569      0  Pity, * was in mood for that. So...any other s...\n",
              "5570      0  The guy did some bitching but I acted like i'd...\n",
              "5571      0                         Rofl. Its true to its name\n",
              "\n",
              "[5572 rows x 2 columns]"
            ]
          },
          "metadata": {
            "tags": []
          },
          "execution_count": 13
        }
      ]
    },
    {
      "cell_type": "code",
      "metadata": {
        "id": "YOAI7kqdh0Mj",
        "colab_type": "code",
        "colab": {
          "base_uri": "https://localhost:8080/",
          "height": 87
        },
        "outputId": "bbf7c6a7-57ca-4291-edee-ea44d4860620"
      },
      "source": [
        "spam['Label'].value_counts()"
      ],
      "execution_count": null,
      "outputs": [
        {
          "output_type": "execute_result",
          "data": {
            "text/plain": [
              "0    4825\n",
              "1     747\n",
              "Name: Label, dtype: int64"
            ]
          },
          "metadata": {
            "tags": []
          },
          "execution_count": 14
        }
      ]
    },
    {
      "cell_type": "code",
      "metadata": {
        "id": "6L6dVLnmxsGH",
        "colab_type": "code",
        "colab": {
          "base_uri": "https://localhost:8080/",
          "height": 572
        },
        "outputId": "b3570d96-647a-40ea-8341-eaa15aad8413"
      },
      "source": [
        "plt.figure(figsize=(19,9))\n",
        "\n",
        "ax = sns.countplot(spam['Label'])\n",
        "\n",
        "for p in ax.patches:\n",
        "  height = p.get_height()\n",
        "  ax.text(p.get_x()+p.get_width()/2,\n",
        "          height,\n",
        "          \"{:0.2f}%\".format(height/len(spam)*100),\n",
        "          ha='center')\n",
        "\n",
        "plt.show()"
      ],
      "execution_count": null,
      "outputs": [
        {
          "output_type": "display_data",
          "data": {
            "image/png": "[encoded data removed]",
            "text/plain": [
              "<Figure size 1368x648 with 1 Axes>"
            ]
          },
          "metadata": {
            "tags": [],
            "needs_background": "light"
          }
        }
      ]
    },
    {
      "cell_type": "code",
      "metadata": {
        "id": "XuJZhcAzx928",
        "colab_type": "code",
        "colab": {}
      },
      "source": [
        "def get_wordnet_pos(pos_tag):\n",
        "    if pos_tag.startswith('J'):\n",
        "        return wordnet.ADJ\n",
        "    elif pos_tag.startswith('V'):\n",
        "        return wordnet.VERB\n",
        "    elif pos_tag.startswith('N'):\n",
        "        return wordnet.NOUN\n",
        "    elif pos_tag.startswith('R'):\n",
        "        return wordnet.ADV\n",
        "    else:\n",
        "        return wordnet.NOUN"
      ],
      "execution_count": null,
      "outputs": []
    },
    {
      "cell_type": "code",
      "metadata": {
        "id": "s3IUK1hmy1VP",
        "colab_type": "code",
        "colab": {}
      },
      "source": [
        "def CleaningData(val):\n",
        "  rex = re.sub(r'[^a-zA-Z0-9]+',' ',val)\n",
        "\n",
        "  pos = pos_tag(word_tokenize(rex))\n",
        "\n",
        "  filter = [WordNetLemmatizer().lemmatize(x[0],get_wordnet_pos(x[1])) for x in pos if x[0] not in stopwords.words('english')]\n",
        "\n",
        "  filter = ' '.join(filter)\n",
        "\n",
        "  return filter"
      ],
      "execution_count": null,
      "outputs": []
    },
    {
      "cell_type": "code",
      "metadata": {
        "id": "685p3Nmc06lo",
        "colab_type": "code",
        "colab": {
          "base_uri": "https://localhost:8080/",
          "height": 137
        },
        "outputId": "b7fba333-ccc1-495b-f816-14e1af981bcf"
      },
      "source": [
        "spam['ppData'] = spam['Text'].apply(CleaningData)"
      ],
      "execution_count": null,
      "outputs": [
        {
          "output_type": "stream",
          "text": [
            "/usr/local/lib/python3.6/dist-packages/ipykernel_launcher.py:1: SettingWithCopyWarning: \n",
            "A value is trying to be set on a copy of a slice from a DataFrame.\n",
            "Try using .loc[row_indexer,col_indexer] = value instead\n",
            "\n",
            "See the caveats in the documentation: https://pandas.pydata.org/pandas-docs/stable/user_guide/indexing.html#returning-a-view-versus-a-copy\n",
            "  \"\"\"Entry point for launching an IPython kernel.\n"
          ],
          "name": "stderr"
        }
      ]
    },
    {
      "cell_type": "code",
      "metadata": {
        "id": "FMv_avQL0Zf2",
        "colab_type": "code",
        "colab": {}
      },
      "source": [
        "spam.head(10)\n",
        "\n",
        "spam.to_csv('/content/drive/My Drive/ColabDataset/HamOrSpam/HamSpamFinalData.csv')"
      ],
      "execution_count": null,
      "outputs": []
    },
    {
      "cell_type": "code",
      "metadata": {
        "id": "N6_zidLg0eN5",
        "colab_type": "code",
        "colab": {}
      },
      "source": [
        "tf = TfidfVectorizer(max_features=500,ngram_range=(1,4),lowercase=True)\n",
        "vals = tf.fit_transform(spam['ppData'])"
      ],
      "execution_count": null,
      "outputs": []
    },
    {
      "cell_type": "code",
      "metadata": {
        "id": "Gvdmr9IQ3qzF",
        "colab_type": "code",
        "colab": {
          "base_uri": "https://localhost:8080/",
          "height": 153
        },
        "outputId": "54bc8f29-784a-4f7b-abbc-7bbad82a9b07"
      },
      "source": [
        "vals.toarray()"
      ],
      "execution_count": null,
      "outputs": [
        {
          "output_type": "execute_result",
          "data": {
            "text/plain": [
              "array([[0., 0., 0., ..., 0., 0., 0.],\n",
              "       [0., 0., 0., ..., 0., 0., 0.],\n",
              "       [0., 0., 0., ..., 0., 0., 0.],\n",
              "       ...,\n",
              "       [0., 0., 0., ..., 0., 0., 0.],\n",
              "       [0., 0., 0., ..., 0., 0., 0.],\n",
              "       [0., 0., 0., ..., 0., 0., 0.]])"
            ]
          },
          "metadata": {
            "tags": []
          },
          "execution_count": 21
        }
      ]
    },
    {
      "cell_type": "code",
      "metadata": {
        "id": "0dkgbB0S3sGl",
        "colab_type": "code",
        "colab": {
          "base_uri": "https://localhost:8080/",
          "height": 1000
        },
        "outputId": "757ec410-2cad-4059-c8c6-9b7b3b6e0d37"
      },
      "source": [
        "tf.get_feature_names()"
      ],
      "execution_count": null,
      "outputs": [
        {
          "output_type": "execute_result",
          "data": {
            "text/plain": [
              "['000',\n",
              " '10',\n",
              " '100',\n",
              " '1000',\n",
              " '1000 cash',\n",
              " '10p',\n",
              " '150p',\n",
              " '150ppm',\n",
              " '16',\n",
              " '18',\n",
              " '1st',\n",
              " '2000',\n",
              " '2nd',\n",
              " '50',\n",
              " '500',\n",
              " '5000',\n",
              " '800',\n",
              " 'able',\n",
              " 'abt',\n",
              " 'account',\n",
              " 'actually',\n",
              " 'address',\n",
              " 'afternoon',\n",
              " 'ah',\n",
              " 'aight',\n",
              " 'all',\n",
              " 'already',\n",
              " 'alright',\n",
              " 'also',\n",
              " 'always',\n",
              " 'am',\n",
              " 'amp',\n",
              " 'and',\n",
              " 'another',\n",
              " 'answer',\n",
              " 'anything',\n",
              " 'anyway',\n",
              " 'apply',\n",
              " 'ard',\n",
              " 'are',\n",
              " 'around',\n",
              " 'as',\n",
              " 'ask',\n",
              " 'at',\n",
              " 'attempt',\n",
              " 'await',\n",
              " 'award',\n",
              " 'away',\n",
              " 'babe',\n",
              " 'baby',\n",
              " 'back',\n",
              " 'bad',\n",
              " 'bed',\n",
              " 'best',\n",
              " 'big',\n",
              " 'birthday',\n",
              " 'bit',\n",
              " 'book',\n",
              " 'box',\n",
              " 'boy',\n",
              " 'break',\n",
              " 'bring',\n",
              " 'bt',\n",
              " 'bus',\n",
              " 'but',\n",
              " 'buy',\n",
              " 'call',\n",
              " 'call later',\n",
              " 'camera',\n",
              " 'can',\n",
              " 'cant',\n",
              " 'car',\n",
              " 'care',\n",
              " 'cash',\n",
              " 'chance',\n",
              " 'change',\n",
              " 'charge',\n",
              " 'chat',\n",
              " 'check',\n",
              " 'claim',\n",
              " 'class',\n",
              " 'close',\n",
              " 'co',\n",
              " 'co uk',\n",
              " 'code',\n",
              " 'collect',\n",
              " 'collection',\n",
              " 'colour',\n",
              " 'com',\n",
              " 'come',\n",
              " 'come home',\n",
              " 'contact',\n",
              " 'cool',\n",
              " 'cos',\n",
              " 'cost',\n",
              " 'could',\n",
              " 'coz',\n",
              " 'credit',\n",
              " 'cs',\n",
              " 'customer',\n",
              " 'customer service',\n",
              " 'da',\n",
              " 'dad',\n",
              " 'dat',\n",
              " 'date',\n",
              " 'day',\n",
              " 'de',\n",
              " 'dear',\n",
              " 'decide',\n",
              " 'decimal',\n",
              " 'decimal gt',\n",
              " 'den',\n",
              " 'detail',\n",
              " 'did',\n",
              " 'didnt',\n",
              " 'dinner',\n",
              " 'dis',\n",
              " 'do',\n",
              " 'don',\n",
              " 'dont',\n",
              " 'double',\n",
              " 'draw',\n",
              " 'dream',\n",
              " 'drink',\n",
              " 'drive',\n",
              " 'drop',\n",
              " 'dude',\n",
              " 'dun',\n",
              " 'dunno',\n",
              " 'early',\n",
              " 'easy',\n",
              " 'eat',\n",
              " 'else',\n",
              " 'end',\n",
              " 'enjoy',\n",
              " 'enough',\n",
              " 'enter',\n",
              " 'entry',\n",
              " 'even',\n",
              " 'ever',\n",
              " 'every',\n",
              " 'everything',\n",
              " 'face',\n",
              " 'family',\n",
              " 'feel',\n",
              " 'find',\n",
              " 'fine',\n",
              " 'finish',\n",
              " 'first',\n",
              " 'food',\n",
              " 'for',\n",
              " 'forget',\n",
              " 'free',\n",
              " 'free call',\n",
              " 'friend',\n",
              " 'friendship',\n",
              " 'from',\n",
              " 'fuck',\n",
              " 'fun',\n",
              " 'game',\n",
              " 'get',\n",
              " 'gift',\n",
              " 'girl',\n",
              " 'give',\n",
              " 'go',\n",
              " 'god',\n",
              " 'goin',\n",
              " 'gon',\n",
              " 'gon na',\n",
              " 'good',\n",
              " 'good morning',\n",
              " 'got',\n",
              " 'great',\n",
              " 'gt',\n",
              " 'guaranteed',\n",
              " 'guaranteed call',\n",
              " 'gud',\n",
              " 'guess',\n",
              " 'guy',\n",
              " 'had',\n",
              " 'haf',\n",
              " 'haha',\n",
              " 'hair',\n",
              " 'half',\n",
              " 'hand',\n",
              " 'happen',\n",
              " 'happy',\n",
              " 'hav',\n",
              " 'have',\n",
              " 'havent',\n",
              " 'he',\n",
              " 'head',\n",
              " 'hear',\n",
              " 'heart',\n",
              " 'hello',\n",
              " 'help',\n",
              " 'hey',\n",
              " 'hi',\n",
              " 'holiday',\n",
              " 'home',\n",
              " 'hope',\n",
              " 'hot',\n",
              " 'hour',\n",
              " 'house',\n",
              " 'how',\n",
              " 'hurt',\n",
              " 'id',\n",
              " 'if',\n",
              " 'ill',\n",
              " 'im',\n",
              " 'important',\n",
              " 'in',\n",
              " 'is',\n",
              " 'it',\n",
              " 'its',\n",
              " 'job',\n",
              " 'join',\n",
              " 'jus',\n",
              " 'just',\n",
              " 'juz',\n",
              " 'keep',\n",
              " 'kiss',\n",
              " 'know',\n",
              " 'landline',\n",
              " 'lar',\n",
              " 'last',\n",
              " 'late',\n",
              " 'later',\n",
              " 'leave',\n",
              " 'leh',\n",
              " 'lei',\n",
              " 'lesson',\n",
              " 'let',\n",
              " 'let know',\n",
              " 'liao',\n",
              " 'life',\n",
              " 'like',\n",
              " 'line',\n",
              " 'little',\n",
              " 'live',\n",
              " 'lol',\n",
              " 'long',\n",
              " 'look',\n",
              " 'lor',\n",
              " 'lose',\n",
              " 'lot',\n",
              " 'love',\n",
              " 'lt',\n",
              " 'lt decimal',\n",
              " 'lt decimal gt',\n",
              " 'lt gt',\n",
              " 'lunch',\n",
              " 'luv',\n",
              " 'mail',\n",
              " 'make',\n",
              " 'man',\n",
              " 'many',\n",
              " 'mate',\n",
              " 'may',\n",
              " 'maybe',\n",
              " 'me',\n",
              " 'mean',\n",
              " 'meet',\n",
              " 'meeting',\n",
              " 'message',\n",
              " 'might',\n",
              " 'min',\n",
              " 'mind',\n",
              " 'minute',\n",
              " 'miss',\n",
              " 'mob',\n",
              " 'mobile',\n",
              " 'money',\n",
              " 'month',\n",
              " 'morning',\n",
              " 'movie',\n",
              " 'msg',\n",
              " 'much',\n",
              " 'music',\n",
              " 'must',\n",
              " 'my',\n",
              " 'na',\n",
              " 'name',\n",
              " 'national',\n",
              " 'need',\n",
              " 'net',\n",
              " 'network',\n",
              " 'never',\n",
              " 'new',\n",
              " 'new year',\n",
              " 'next',\n",
              " 'nice',\n",
              " 'night',\n",
              " 'nite',\n",
              " 'no',\n",
              " 'nokia',\n",
              " 'not',\n",
              " 'nothing',\n",
              " 'now',\n",
              " 'number',\n",
              " 'of',\n",
              " 'offer',\n",
              " 'office',\n",
              " 'oh',\n",
              " 'ok',\n",
              " 'ok lor',\n",
              " 'okay',\n",
              " 'on',\n",
              " 'one',\n",
              " 'online',\n",
              " 'only',\n",
              " 'or',\n",
              " 'orange',\n",
              " 'order',\n",
              " 'oso',\n",
              " 'pa',\n",
              " 'pain',\n",
              " 'part',\n",
              " 'pay',\n",
              " 'people',\n",
              " 'per',\n",
              " 'person',\n",
              " 'phone',\n",
              " 'pic',\n",
              " 'pick',\n",
              " 'place',\n",
              " 'plan',\n",
              " 'play',\n",
              " 'player',\n",
              " 'please',\n",
              " 'please call',\n",
              " 'pls',\n",
              " 'plus',\n",
              " 'plz',\n",
              " 'po',\n",
              " 'po box',\n",
              " 'point',\n",
              " 'post',\n",
              " 'pound',\n",
              " 'price',\n",
              " 'princess',\n",
              " 'prize',\n",
              " 'probably',\n",
              " 'problem',\n",
              " 'put',\n",
              " 'question',\n",
              " 'quite',\n",
              " 'rate',\n",
              " 'reach',\n",
              " 'read',\n",
              " 'ready',\n",
              " 'real',\n",
              " 'really',\n",
              " 'receive',\n",
              " 'remember',\n",
              " 'reply',\n",
              " 'right',\n",
              " 'ring',\n",
              " 'ringtone',\n",
              " 'room',\n",
              " 'run',\n",
              " 'sat',\n",
              " 'saw',\n",
              " 'say',\n",
              " 'sch',\n",
              " 'school',\n",
              " 'search',\n",
              " 'see',\n",
              " 'select',\n",
              " 'send',\n",
              " 'service',\n",
              " 'set',\n",
              " 'sexy',\n",
              " 'shall',\n",
              " 'she',\n",
              " 'shit',\n",
              " 'shop',\n",
              " 'shopping',\n",
              " 'show',\n",
              " 'since',\n",
              " 'sir',\n",
              " 'sleep',\n",
              " 'smile',\n",
              " 'smoke',\n",
              " 'sms',\n",
              " 'so',\n",
              " 'someone',\n",
              " 'something',\n",
              " 'soon',\n",
              " 'sorry',\n",
              " 'sorry call',\n",
              " 'sorry call later',\n",
              " 'speak',\n",
              " 'special',\n",
              " 'start',\n",
              " 'stay',\n",
              " 'still',\n",
              " 'stop',\n",
              " 'stuff',\n",
              " 'sure',\n",
              " 'sweet',\n",
              " 'take',\n",
              " 'take care',\n",
              " 'talk',\n",
              " 'tell',\n",
              " 'test',\n",
              " 'text',\n",
              " 'thank',\n",
              " 'thanks',\n",
              " 'thanx',\n",
              " 'that',\n",
              " 'thats',\n",
              " 'the',\n",
              " 'then',\n",
              " 'there',\n",
              " 'they',\n",
              " 'thing',\n",
              " 'think',\n",
              " 'this',\n",
              " 'thk',\n",
              " 'though',\n",
              " 'til',\n",
              " 'till',\n",
              " 'time',\n",
              " 'tmr',\n",
              " 'to',\n",
              " 'to claim',\n",
              " 'today',\n",
              " 'tomorrow',\n",
              " 'tone',\n",
              " 'tonight',\n",
              " 'top',\n",
              " 'town',\n",
              " 'trip',\n",
              " 'true',\n",
              " 'try',\n",
              " 'try contact',\n",
              " 'tv',\n",
              " 'two',\n",
              " 'txt',\n",
              " 'uk',\n",
              " 'up',\n",
              " 'update',\n",
              " 'ur',\n",
              " 'urgent',\n",
              " 'use',\n",
              " 'valid',\n",
              " 'video',\n",
              " 'voucher',\n",
              " 'wait',\n",
              " 'wake',\n",
              " 'walk',\n",
              " 'wan',\n",
              " 'wan na',\n",
              " 'want',\n",
              " 'was',\n",
              " 'wat',\n",
              " 'watch',\n",
              " 'way',\n",
              " 'we',\n",
              " 'we try',\n",
              " 'week',\n",
              " 'weekend',\n",
              " 'weekly',\n",
              " 'well',\n",
              " 'wen',\n",
              " 'what',\n",
              " 'when',\n",
              " 'where',\n",
              " 'why',\n",
              " 'wif',\n",
              " 'wife',\n",
              " 'will',\n",
              " 'win',\n",
              " 'wish',\n",
              " 'with',\n",
              " 'without',\n",
              " 'wk',\n",
              " 'won',\n",
              " 'wont',\n",
              " 'word',\n",
              " 'work',\n",
              " 'world',\n",
              " 'worry',\n",
              " 'wot',\n",
              " 'would',\n",
              " 'www',\n",
              " 'xmas',\n",
              " 'xxx',\n",
              " 'ya',\n",
              " 'yeah',\n",
              " 'year',\n",
              " 'yes',\n",
              " 'yesterday',\n",
              " 'yet',\n",
              " 'yo',\n",
              " 'you',\n",
              " 'your',\n",
              " 'your mobile',\n",
              " 'yup']"
            ]
          },
          "metadata": {
            "tags": []
          },
          "execution_count": 22
        }
      ]
    },
    {
      "cell_type": "code",
      "metadata": {
        "id": "f-x8Wnzq3tvm",
        "colab_type": "code",
        "colab": {}
      },
      "source": [
        "_,xTest, _,yTest = train_test_split(vals.toarray(),spam['Label'],test_size=0.2,random_state=1)\n",
        "\n",
        "xTrain = vals.toarray()\n",
        "yTrain = spam['Label']"
      ],
      "execution_count": null,
      "outputs": []
    },
    {
      "cell_type": "code",
      "metadata": {
        "id": "SvSrRDv64FhV",
        "colab_type": "code",
        "colab": {
          "base_uri": "https://localhost:8080/",
          "height": 87
        },
        "outputId": "84f1d721-06e2-458c-d43a-efcb7e6ed009"
      },
      "source": [
        "yTrain.value_counts()"
      ],
      "execution_count": null,
      "outputs": [
        {
          "output_type": "execute_result",
          "data": {
            "text/plain": [
              "0    4825\n",
              "1     747\n",
              "Name: Label, dtype: int64"
            ]
          },
          "metadata": {
            "tags": []
          },
          "execution_count": 24
        }
      ]
    },
    {
      "cell_type": "code",
      "metadata": {
        "id": "OrWyEH4t4Mzt",
        "colab_type": "code",
        "colab": {
          "base_uri": "https://localhost:8080/",
          "height": 71
        },
        "outputId": "85996f3f-3665-44b6-a8d1-4ac4ceeabfc1"
      },
      "source": [
        "xTrain,yTrain = SMOTE(k_neighbors=4).fit_resample(xTrain,yTrain)"
      ],
      "execution_count": null,
      "outputs": [
        {
          "output_type": "stream",
          "text": [
            "/usr/local/lib/python3.6/dist-packages/sklearn/utils/deprecation.py:87: FutureWarning: Function safe_indexing is deprecated; safe_indexing is deprecated in version 0.22 and will be removed in version 0.24.\n",
            "  warnings.warn(msg, category=FutureWarning)\n"
          ],
          "name": "stderr"
        }
      ]
    },
    {
      "cell_type": "code",
      "metadata": {
        "id": "sZDkzSSs4de5",
        "colab_type": "code",
        "colab": {
          "base_uri": "https://localhost:8080/",
          "height": 54
        },
        "outputId": "de951b91-e496-4bc7-ad6c-5e13d7e62348"
      },
      "source": [
        "len(yTrain)"
      ],
      "execution_count": null,
      "outputs": [
        {
          "output_type": "execute_result",
          "data": {
            "text/plain": [
              "9650"
            ]
          },
          "metadata": {
            "tags": []
          },
          "execution_count": 26
        }
      ]
    },
    {
      "cell_type": "code",
      "metadata": {
        "id": "6YUwpjnwDz2G",
        "colab_type": "code",
        "colab": {}
      },
      "source": [
        "models = {\n",
        "    \n",
        "    'RF':{\n",
        "    \"Model\":RandomForestClassifier(),\n",
        "    \"Params\":{\n",
        "        'n_estimators':np.linspace(50,500,50,dtype='int64'),\n",
        "        'min_samples_leaf':[2,3,4,5,6,7,8,9],\n",
        "        'max_depth':[2,3,4,5,6,7,8,9],\n",
        "        'criterion':['gini','entropy'],\n",
        "        'min_samples_split':[2,3,4,5,6,7,8]\n",
        "    }},\n",
        "\n",
        "    'svc':{\n",
        "          \"Model\":SVC(),\n",
        "          \"Params\":{'kernel':['linear', 'poly', 'rbf', 'sigmoid'],\n",
        "              'gamma':np.arange(1e-4,1e-2,0.0001),\n",
        "              'C':np.linspace(1,100,10),\n",
        "              'degree':np.linspace(1,10,10)\n",
        "              }},\n",
        "          \n",
        "\n",
        "          \n",
        "          'log':{\n",
        "              'Model':LogisticRegression(),\n",
        "              'Params':{\n",
        "                  'C':np.arange(0.1,1.0,0.1),\n",
        "              }\n",
        "          },\n",
        "\n",
        "          \n",
        "\n",
        "          'DT':{\n",
        "              'Model':DecisionTreeClassifier(),\n",
        "              'Params':{\n",
        "                  'min_samples_leaf':[2,3,4,5,6,7,8,9],\n",
        "                  'max_depth':[2,3,4,5,6,7,8,9],\n",
        "                  'criterion':['gini','entropy'],\n",
        "                  'min_samples_split':[2,3,4,5,6,7,8]\n",
        "              }\n",
        "          }\n",
        "        }\n",
        "\n"
      ],
      "execution_count": null,
      "outputs": []
    },
    {
      "cell_type": "code",
      "metadata": {
        "id": "VLTOViX86UlV",
        "colab_type": "code",
        "colab": {
          "base_uri": "https://localhost:8080/",
          "height": 71
        },
        "outputId": "99f4ae2c-3acf-476e-8fb7-43870aadd2c3"
      },
      "source": [
        "res = {}\n",
        "for key,values in models.items():\n",
        "\n",
        "  grid = RandomizedSearchCV(estimator=values['Model'],param_distributions=values['Params'],cv=5,return_train_score=False)\n",
        "  grid = grid.fit(xTrain,yTrain)\n",
        "  res[key] = {'Best Params':grid.best_params_,'Best Score':grid.best_score_,'Mean Score':grid.cv_results_[\"mean_test_score\"].mean()}"
      ],
      "execution_count": null,
      "outputs": [
        {
          "output_type": "stream",
          "text": [
            "/usr/local/lib/python3.6/dist-packages/sklearn/model_selection/_search.py:281: UserWarning: The total space of parameters 9 is smaller than n_iter=10. Running 9 iterations. For exhaustive searches, use GridSearchCV.\n",
            "  % (grid_size, self.n_iter, grid_size), UserWarning)\n"
          ],
          "name": "stderr"
        }
      ]
    },
    {
      "cell_type": "code",
      "metadata": {
        "id": "D12gV4CESLkS",
        "colab_type": "code",
        "colab": {
          "base_uri": "https://localhost:8080/",
          "height": 748
        },
        "outputId": "e8a7f9c0-e278-4aa8-fd87-aaa9f1ac95b7"
      },
      "source": [
        "res"
      ],
      "execution_count": null,
      "outputs": [
        {
          "output_type": "execute_result",
          "data": {
            "text/plain": [
              "{'DT': {'Best Params': {'criterion': 'entropy',\n",
              "   'max_depth': 7,\n",
              "   'min_samples_leaf': 3,\n",
              "   'min_samples_split': 3},\n",
              "  'Best Score': 0.9221761658031088,\n",
              "  'Mean Score': 0.8599481865284975},\n",
              " 'RF': {'Best Params': {'criterion': 'entropy',\n",
              "   'max_depth': 9,\n",
              "   'min_samples_leaf': 9,\n",
              "   'min_samples_split': 3,\n",
              "   'n_estimators': 435},\n",
              "  'Best Score': 0.9484974093264247,\n",
              "  'Mean Score': 0.9359170984455958},\n",
              " 'log': {'Best Params': {'C': 0.9},\n",
              "  'Best Score': 0.946839378238342,\n",
              "  'Mean Score': 0.9383995394358089},\n",
              " 'svc': {'Best Params': {'C': 45.0,\n",
              "   'degree': 3.0,\n",
              "   'gamma': 0.007300000000000001,\n",
              "   'kernel': 'rbf'},\n",
              "  'Best Score': 0.9678756476683938,\n",
              "  'Mean Score': 0.884663212435233}}"
            ]
          },
          "metadata": {
            "tags": []
          },
          "execution_count": 25
        },
        {
          "output_type": "execute_result",
          "data": {
            "text/plain": [
              "{'DT': {'Best Params': {'criterion': 'entropy',\n",
              "   'max_depth': 7,\n",
              "   'min_samples_leaf': 3,\n",
              "   'min_samples_split': 3},\n",
              "  'Best Score': 0.9221761658031088,\n",
              "  'Mean Score': 0.8599481865284975},\n",
              " 'RF': {'Best Params': {'criterion': 'entropy',\n",
              "   'max_depth': 9,\n",
              "   'min_samples_leaf': 9,\n",
              "   'min_samples_split': 3,\n",
              "   'n_estimators': 435},\n",
              "  'Best Score': 0.9484974093264247,\n",
              "  'Mean Score': 0.9359170984455958},\n",
              " 'log': {'Best Params': {'C': 0.9},\n",
              "  'Best Score': 0.946839378238342,\n",
              "  'Mean Score': 0.9383995394358089},\n",
              " 'svc': {'Best Params': {'C': 45.0,\n",
              "   'degree': 3.0,\n",
              "   'gamma': 0.007300000000000001,\n",
              "   'kernel': 'rbf'},\n",
              "  'Best Score': 0.9678756476683938,\n",
              "  'Mean Score': 0.884663212435233}}"
            ]
          },
          "metadata": {
            "tags": []
          },
          "execution_count": 26
        }
      ]
    },
    {
      "cell_type": "code",
      "metadata": {
        "id": "r0d-wH8aSR8j",
        "colab_type": "code",
        "colab": {}
      },
      "source": [
        "with open('/content/drive/My Drive/Colab Notebooks/Sentiment Analysis/BestParams.txt','w')as file:\n",
        "  for key,values in res.items():\n",
        "    file.write('%s:%s\\n'%(key,values))"
      ],
      "execution_count": null,
      "outputs": []
    },
    {
      "cell_type": "code",
      "metadata": {
        "id": "PjKZ7GHS1mDp",
        "colab_type": "code",
        "colab": {
          "base_uri": "https://localhost:8080/",
          "height": 54
        },
        "outputId": "b27da37a-ccba-4945-b826-3f2af09d2db5"
      },
      "source": [
        "vs = {}\n",
        "with open('/content/drive/My Drive/Colab Notebooks/Sentiment Analysis/BestParams.txt','r')as file:\n",
        "    for item in file:\n",
        "      if ':' in item:\n",
        "          key,value = item.split(':',1)\n",
        "          vs[key]=value\n",
        "    print(vs)"
      ],
      "execution_count": null,
      "outputs": [
        {
          "output_type": "stream",
          "text": [
            "{'RF': \"{'Best Params': {'n_estimators': 435, 'min_samples_split': 3, 'min_samples_leaf': 9, 'max_depth': 9, 'criterion': 'entropy'}, 'Best Score': 0.9484974093264247, 'Mean Score': 0.9359170984455958}\\n\", 'svc': \"{'Best Params': {'kernel': 'rbf', 'gamma': 0.007300000000000001, 'degree': 3.0, 'C': 45.0}, 'Best Score': 0.9678756476683938, 'Mean Score': 0.884663212435233}\\n\", 'log': \"{'Best Params': {'C': 0.9}, 'Best Score': 0.946839378238342, 'Mean Score': 0.9383995394358089}\\n\", 'DT': \"{'Best Params': {'min_samples_split': 3, 'min_samples_leaf': 3, 'max_depth': 7, 'criterion': 'entropy'}, 'Best Score': 0.9221761658031088, 'Mean Score': 0.8599481865284975}\\n\"}\n"
          ],
          "name": "stdout"
        }
      ]
    },
    {
      "cell_type": "code",
      "metadata": {
        "id": "94EpsQfZ4hYK",
        "colab_type": "code",
        "colab": {}
      },
      "source": [
        "def AccuracyTest(predData,yTestData):\n",
        "  print(\"Accuracy Test \",accuracy_score(yTestData,predData))\n",
        "  print()\n",
        "  print(\"Precision Test \",precision_score(yTestData,predData))\n",
        "  print()\n",
        "  print(\"F1 Score \",f1_score(yTestData,predData))\n",
        "  print()\n",
        "  print(\"Confusion Score \")\n",
        "  print(confusion_matrix(yTestData,predData))\n",
        "  print()\n",
        "  print(\"Classification Report Score \")\n",
        "  print(classification_report(yTestData,predData))"
      ],
      "execution_count": null,
      "outputs": []
    },
    {
      "cell_type": "code",
      "metadata": {
        "id": "O6bnEk4P4JWS",
        "colab_type": "code",
        "colab": {}
      },
      "source": [
        "FinalModel = {'dt':DecisionTreeClassifier(criterion='entropy',\n",
        "   max_depth =  7,\n",
        "   min_samples_leaf = 3,\n",
        "   min_samples_split = 3),\n",
        "\n",
        "   'svm':  SVC(C= 45.0,\n",
        "   degree= 3.0,\n",
        "   gamma= 0.007300000000000001,\n",
        "   kernel= 'rbf'),\n",
        "\n",
        "   'RF': RandomForestClassifier(criterion =  'entropy',\n",
        "   max_depth =  9,\n",
        "   min_samples_leaf = 9,\n",
        "   min_samples_split = 3,\n",
        "   n_estimators = 435),\n",
        "\n",
        "   'log': LogisticRegression(C = 0.9,penalty='l2'),\n",
        "\n",
        "   'NB':MultinomialNB()\n",
        "\n",
        "}"
      ],
      "execution_count": null,
      "outputs": []
    },
    {
      "cell_type": "code",
      "metadata": {
        "id": "ul6t6X5H6yGe",
        "colab_type": "code",
        "colab": {
          "base_uri": "https://localhost:8080/",
          "height": 1000
        },
        "outputId": "a0c50a20-7e8a-4a0d-db9f-29b6dace8d3b"
      },
      "source": [
        "for key,values in FinalModel.items():\n",
        "  ada = AdaBoostClassifier(base_estimator=values,n_estimators=100 , algorithm='SAMME')\n",
        "  vals = ada.fit(xTrain,yTrain)\n",
        "\n",
        "  print()\n",
        "  print(key)\n",
        "\n",
        "  filename = '/content/drive/My Drive/Colab Notebooks/Sentiment Analysis/Adaboost'+key+'.sav'\n",
        "  pickle.dump(vals, open(filename, 'wb'))\n",
        "  loaded = pickle.load(open(filename,'rb'))\n",
        "  AccuracyTest(loaded.predict(xTest),yTest)\n",
        "\n",
        "  print('---'*30)"
      ],
      "execution_count": null,
      "outputs": [
        {
          "output_type": "stream",
          "text": [
            "\n",
            "dt\n",
            "Accuracy Test  0.9982062780269059\n",
            "\n",
            "Precision Test  1.0\n",
            "\n",
            "F1 Score  0.9927536231884058\n",
            "\n",
            "Confusion Score \n",
            "[[976   0]\n",
            " [  2 137]]\n",
            "\n",
            "Classification Report Score \n",
            "              precision    recall  f1-score   support\n",
            "\n",
            "           0       1.00      1.00      1.00       976\n",
            "           1       1.00      0.99      0.99       139\n",
            "\n",
            "    accuracy                           1.00      1115\n",
            "   macro avg       1.00      0.99      1.00      1115\n",
            "weighted avg       1.00      1.00      1.00      1115\n",
            "\n",
            "------------------------------------------------------------------------------------------\n",
            "\n",
            "svm\n",
            "Accuracy Test  0.9748878923766816\n",
            "\n",
            "Precision Test  0.87248322147651\n",
            "\n",
            "F1 Score  0.9027777777777778\n",
            "\n",
            "Confusion Score \n",
            "[[957  19]\n",
            " [  9 130]]\n",
            "\n",
            "Classification Report Score \n",
            "              precision    recall  f1-score   support\n",
            "\n",
            "           0       0.99      0.98      0.99       976\n",
            "           1       0.87      0.94      0.90       139\n",
            "\n",
            "    accuracy                           0.97      1115\n",
            "   macro avg       0.93      0.96      0.94      1115\n",
            "weighted avg       0.98      0.97      0.98      1115\n",
            "\n",
            "------------------------------------------------------------------------------------------\n",
            "\n",
            "RF\n",
            "Accuracy Test  1.0\n",
            "\n",
            "Precision Test  1.0\n",
            "\n",
            "F1 Score  1.0\n",
            "\n",
            "Confusion Score \n",
            "[[976   0]\n",
            " [  0 139]]\n",
            "\n",
            "Classification Report Score \n",
            "              precision    recall  f1-score   support\n",
            "\n",
            "           0       1.00      1.00      1.00       976\n",
            "           1       1.00      1.00      1.00       139\n",
            "\n",
            "    accuracy                           1.00      1115\n",
            "   macro avg       1.00      1.00      1.00      1115\n",
            "weighted avg       1.00      1.00      1.00      1115\n",
            "\n",
            "------------------------------------------------------------------------------------------\n",
            "\n",
            "log\n",
            "Accuracy Test  0.9748878923766816\n",
            "\n",
            "Precision Test  0.84472049689441\n",
            "\n",
            "F1 Score  0.9066666666666667\n",
            "\n",
            "Confusion Score \n",
            "[[951  25]\n",
            " [  3 136]]\n",
            "\n",
            "Classification Report Score \n",
            "              precision    recall  f1-score   support\n",
            "\n",
            "           0       1.00      0.97      0.99       976\n",
            "           1       0.84      0.98      0.91       139\n",
            "\n",
            "    accuracy                           0.97      1115\n",
            "   macro avg       0.92      0.98      0.95      1115\n",
            "weighted avg       0.98      0.97      0.98      1115\n",
            "\n",
            "------------------------------------------------------------------------------------------\n",
            "\n",
            "NB\n",
            "Accuracy Test  0.9802690582959641\n",
            "\n",
            "Precision Test  0.8823529411764706\n",
            "\n",
            "F1 Score  0.9246575342465753\n",
            "\n",
            "Confusion Score \n",
            "[[958  18]\n",
            " [  4 135]]\n",
            "\n",
            "Classification Report Score \n",
            "              precision    recall  f1-score   support\n",
            "\n",
            "           0       1.00      0.98      0.99       976\n",
            "           1       0.88      0.97      0.92       139\n",
            "\n",
            "    accuracy                           0.98      1115\n",
            "   macro avg       0.94      0.98      0.96      1115\n",
            "weighted avg       0.98      0.98      0.98      1115\n",
            "\n",
            "------------------------------------------------------------------------------------------\n"
          ],
          "name": "stdout"
        }
      ]
    },
    {
      "cell_type": "code",
      "metadata": {
        "id": "d4ps7IvcBKqh",
        "colab_type": "code",
        "colab": {}
      },
      "source": [
        "allLoaded = list()\n",
        "for key,values in FinalModel.items():\n",
        "  j = '/content/drive/My Drive/Colab Notebooks/Sentiment Analysis/Adaboost'+key+'.sav'\n",
        "  loaded = pickle.load(open(j,'rb'))\n",
        "  allLoaded.append(loaded)\n",
        "  "
      ],
      "execution_count": null,
      "outputs": []
    },
    {
      "cell_type": "code",
      "metadata": {
        "id": "SNkdF0DoHPoh",
        "colab_type": "code",
        "colab": {
          "base_uri": "https://localhost:8080/",
          "height": 1000
        },
        "outputId": "4d2fbe6e-0e20-4710-f850-c7e3e011e638"
      },
      "source": [
        "allLoaded"
      ],
      "execution_count": null,
      "outputs": [
        {
          "output_type": "execute_result",
          "data": {
            "text/plain": [
              "[AdaBoostClassifier(algorithm='SAMME',\n",
              "                    base_estimator=DecisionTreeClassifier(ccp_alpha=0.0,\n",
              "                                                          class_weight=None,\n",
              "                                                          criterion='entropy',\n",
              "                                                          max_depth=7,\n",
              "                                                          max_features=None,\n",
              "                                                          max_leaf_nodes=None,\n",
              "                                                          min_impurity_decrease=0.0,\n",
              "                                                          min_impurity_split=None,\n",
              "                                                          min_samples_leaf=3,\n",
              "                                                          min_samples_split=3,\n",
              "                                                          min_weight_fraction_leaf=0.0,\n",
              "                                                          presort='deprecated',\n",
              "                                                          random_state=None,\n",
              "                                                          splitter='best'),\n",
              "                    learning_rate=1.0, n_estimators=100, random_state=None),\n",
              " AdaBoostClassifier(algorithm='SAMME',\n",
              "                    base_estimator=SVC(C=45.0, break_ties=False, cache_size=200,\n",
              "                                       class_weight=None, coef0=0.0,\n",
              "                                       decision_function_shape='ovr', degree=3.0,\n",
              "                                       gamma=0.007300000000000001, kernel='rbf',\n",
              "                                       max_iter=-1, probability=False,\n",
              "                                       random_state=None, shrinking=True,\n",
              "                                       tol=0.001, verbose=False),\n",
              "                    learning_rate=1.0, n_estimators=100, random_state=None),\n",
              " AdaBoostClassifier(algorithm='SAMME',\n",
              "                    base_estimator=RandomForestClassifier(bootstrap=True,\n",
              "                                                          ccp_alpha=0.0,\n",
              "                                                          class_weight=None,\n",
              "                                                          criterion='entropy',\n",
              "                                                          max_depth=9,\n",
              "                                                          max_features='auto',\n",
              "                                                          max_leaf_nodes=None,\n",
              "                                                          max_samples=None,\n",
              "                                                          min_impurity_decrease=0.0,\n",
              "                                                          min_impurity_split=None,\n",
              "                                                          min_samples_leaf=9,\n",
              "                                                          min_samples_split=3,\n",
              "                                                          min_weight_fraction_leaf=0.0,\n",
              "                                                          n_estimators=435,\n",
              "                                                          n_jobs=None,\n",
              "                                                          oob_score=False,\n",
              "                                                          random_state=None,\n",
              "                                                          verbose=0,\n",
              "                                                          warm_start=False),\n",
              "                    learning_rate=1.0, n_estimators=100, random_state=None),\n",
              " AdaBoostClassifier(algorithm='SAMME',\n",
              "                    base_estimator=LogisticRegression(C=0.9, class_weight=None,\n",
              "                                                      dual=False,\n",
              "                                                      fit_intercept=True,\n",
              "                                                      intercept_scaling=1,\n",
              "                                                      l1_ratio=None,\n",
              "                                                      max_iter=100,\n",
              "                                                      multi_class='auto',\n",
              "                                                      n_jobs=None, penalty='l2',\n",
              "                                                      random_state=None,\n",
              "                                                      solver='lbfgs', tol=0.0001,\n",
              "                                                      verbose=0,\n",
              "                                                      warm_start=False),\n",
              "                    learning_rate=1.0, n_estimators=100, random_state=None),\n",
              " AdaBoostClassifier(algorithm='SAMME',\n",
              "                    base_estimator=MultinomialNB(alpha=1.0, class_prior=None,\n",
              "                                                 fit_prior=True),\n",
              "                    learning_rate=1.0, n_estimators=100, random_state=None)]"
            ]
          },
          "metadata": {
            "tags": []
          },
          "execution_count": 4
        }
      ]
    },
    {
      "cell_type": "code",
      "metadata": {
        "id": "4kUs7NLYHmN_",
        "colab_type": "code",
        "colab": {
          "base_uri": "https://localhost:8080/",
          "height": 74
        },
        "outputId": "24d91b5d-4697-4c3b-9739-748956c8499e"
      },
      "source": [
        "tk = spam.ppData[2]\n",
        "tk"
      ],
      "execution_count": null,
      "outputs": [
        {
          "output_type": "execute_result",
          "data": {
            "application/vnd.google.colaboratory.intrinsic": {
              "type": "string"
            },
            "text/plain": [
              "'Free entry 2 wkly comp win FA Cup final tkts 21st May 2005 Text FA 87121 receive entry question std txt rate T C apply 08452810075over18'"
            ]
          },
          "metadata": {
            "tags": []
          },
          "execution_count": 27
        }
      ]
    },
    {
      "cell_type": "code",
      "metadata": {
        "id": "o1rerpubH4GY",
        "colab_type": "code",
        "colab": {
          "base_uri": "https://localhost:8080/",
          "height": 1000
        },
        "outputId": "95790cf7-aa9f-4f76-f038-4ec2caaa7e3b"
      },
      "source": [
        "mj = tf.transform([tk])\n",
        "mj.toarray()"
      ],
      "execution_count": null,
      "outputs": [
        {
          "output_type": "execute_result",
          "data": {
            "text/plain": [
              "array([[0.        , 0.        , 0.        , 0.        , 0.        ,\n",
              "        0.        , 0.        , 0.        , 0.        , 0.        ,\n",
              "        0.        , 0.        , 0.        , 0.        , 0.        ,\n",
              "        0.        , 0.        , 0.        , 0.        , 0.        ,\n",
              "        0.        , 0.        , 0.        , 0.        , 0.        ,\n",
              "        0.        , 0.        , 0.        , 0.        , 0.        ,\n",
              "        0.        , 0.        , 0.        , 0.        , 0.        ,\n",
              "        0.        , 0.        , 0.29261924, 0.        , 0.        ,\n",
              "        0.        , 0.        , 0.        , 0.        , 0.        ,\n",
              "        0.        , 0.        , 0.        , 0.        , 0.        ,\n",
              "        0.        , 0.        , 0.        , 0.        , 0.        ,\n",
              "        0.        , 0.        , 0.        , 0.        , 0.        ,\n",
              "        0.        , 0.        , 0.        , 0.        , 0.        ,\n",
              "        0.        , 0.        , 0.        , 0.        , 0.        ,\n",
              "        0.        , 0.        , 0.        , 0.        , 0.        ,\n",
              "        0.        , 0.        , 0.        , 0.        , 0.        ,\n",
              "        0.        , 0.        , 0.        , 0.        , 0.        ,\n",
              "        0.        , 0.        , 0.        , 0.        , 0.        ,\n",
              "        0.        , 0.        , 0.        , 0.        , 0.        ,\n",
              "        0.        , 0.        , 0.        , 0.        , 0.        ,\n",
              "        0.        , 0.        , 0.        , 0.        , 0.        ,\n",
              "        0.        , 0.        , 0.        , 0.        , 0.        ,\n",
              "        0.        , 0.        , 0.        , 0.        , 0.        ,\n",
              "        0.        , 0.        , 0.        , 0.        , 0.        ,\n",
              "        0.        , 0.        , 0.        , 0.        , 0.        ,\n",
              "        0.        , 0.        , 0.        , 0.        , 0.        ,\n",
              "        0.        , 0.        , 0.        , 0.        , 0.        ,\n",
              "        0.        , 0.        , 0.63000196, 0.        , 0.        ,\n",
              "        0.        , 0.        , 0.        , 0.        , 0.        ,\n",
              "        0.        , 0.        , 0.        , 0.        , 0.        ,\n",
              "        0.        , 0.        , 0.20186266, 0.        , 0.        ,\n",
              "        0.        , 0.        , 0.        , 0.        , 0.        ,\n",
              "        0.        , 0.        , 0.        , 0.        , 0.        ,\n",
              "        0.        , 0.        , 0.        , 0.        , 0.        ,\n",
              "        0.        , 0.        , 0.        , 0.        , 0.        ,\n",
              "        0.        , 0.        , 0.        , 0.        , 0.        ,\n",
              "        0.        , 0.        , 0.        , 0.        , 0.        ,\n",
              "        0.        , 0.        , 0.        , 0.        , 0.        ,\n",
              "        0.        , 0.        , 0.        , 0.        , 0.        ,\n",
              "        0.        , 0.        , 0.        , 0.        , 0.        ,\n",
              "        0.        , 0.        , 0.        , 0.        , 0.        ,\n",
              "        0.        , 0.        , 0.        , 0.        , 0.        ,\n",
              "        0.        , 0.        , 0.        , 0.        , 0.        ,\n",
              "        0.        , 0.        , 0.        , 0.        , 0.        ,\n",
              "        0.        , 0.        , 0.        , 0.        , 0.        ,\n",
              "        0.        , 0.        , 0.        , 0.        , 0.        ,\n",
              "        0.        , 0.        , 0.        , 0.        , 0.        ,\n",
              "        0.        , 0.        , 0.        , 0.        , 0.        ,\n",
              "        0.        , 0.        , 0.        , 0.        , 0.        ,\n",
              "        0.        , 0.        , 0.        , 0.        , 0.        ,\n",
              "        0.        , 0.        , 0.        , 0.        , 0.        ,\n",
              "        0.        , 0.        , 0.        , 0.27639969, 0.        ,\n",
              "        0.        , 0.        , 0.        , 0.        , 0.        ,\n",
              "        0.        , 0.        , 0.        , 0.        , 0.        ,\n",
              "        0.        , 0.        , 0.        , 0.        , 0.        ,\n",
              "        0.        , 0.        , 0.        , 0.        , 0.        ,\n",
              "        0.        , 0.        , 0.        , 0.        , 0.        ,\n",
              "        0.        , 0.        , 0.        , 0.        , 0.        ,\n",
              "        0.        , 0.        , 0.        , 0.        , 0.        ,\n",
              "        0.        , 0.        , 0.        , 0.        , 0.        ,\n",
              "        0.        , 0.        , 0.        , 0.        , 0.        ,\n",
              "        0.        , 0.        , 0.        , 0.        , 0.        ,\n",
              "        0.        , 0.        , 0.        , 0.        , 0.        ,\n",
              "        0.        , 0.        , 0.        , 0.        , 0.        ,\n",
              "        0.        , 0.        , 0.        , 0.        , 0.        ,\n",
              "        0.        , 0.        , 0.        , 0.        , 0.        ,\n",
              "        0.        , 0.        , 0.        , 0.        , 0.        ,\n",
              "        0.        , 0.        , 0.        , 0.        , 0.        ,\n",
              "        0.        , 0.        , 0.        , 0.        , 0.        ,\n",
              "        0.28994051, 0.        , 0.2826962 , 0.        , 0.        ,\n",
              "        0.        , 0.        , 0.        , 0.28383048, 0.        ,\n",
              "        0.        , 0.        , 0.        , 0.        , 0.        ,\n",
              "        0.        , 0.        , 0.        , 0.        , 0.        ,\n",
              "        0.        , 0.        , 0.        , 0.        , 0.        ,\n",
              "        0.        , 0.        , 0.        , 0.        , 0.        ,\n",
              "        0.        , 0.        , 0.        , 0.        , 0.        ,\n",
              "        0.        , 0.        , 0.        , 0.        , 0.        ,\n",
              "        0.        , 0.        , 0.        , 0.        , 0.        ,\n",
              "        0.        , 0.        , 0.        , 0.        , 0.        ,\n",
              "        0.        , 0.        , 0.        , 0.        , 0.        ,\n",
              "        0.        , 0.        , 0.        , 0.        , 0.        ,\n",
              "        0.        , 0.20884148, 0.        , 0.        , 0.        ,\n",
              "        0.        , 0.        , 0.        , 0.        , 0.        ,\n",
              "        0.        , 0.        , 0.        , 0.        , 0.        ,\n",
              "        0.        , 0.        , 0.        , 0.        , 0.        ,\n",
              "        0.        , 0.        , 0.        , 0.        , 0.        ,\n",
              "        0.        , 0.        , 0.        , 0.        , 0.        ,\n",
              "        0.        , 0.        , 0.        , 0.        , 0.21758182,\n",
              "        0.        , 0.        , 0.        , 0.        , 0.        ,\n",
              "        0.        , 0.        , 0.        , 0.        , 0.        ,\n",
              "        0.        , 0.        , 0.        , 0.        , 0.        ,\n",
              "        0.        , 0.        , 0.        , 0.        , 0.        ,\n",
              "        0.        , 0.        , 0.        , 0.        , 0.        ,\n",
              "        0.        , 0.        , 0.        , 0.        , 0.        ,\n",
              "        0.        , 0.        , 0.        , 0.25461186, 0.        ,\n",
              "        0.        , 0.        , 0.        , 0.        , 0.        ,\n",
              "        0.        , 0.        , 0.        , 0.        , 0.        ,\n",
              "        0.        , 0.        , 0.        , 0.        , 0.        ,\n",
              "        0.        , 0.        , 0.        , 0.        , 0.        ,\n",
              "        0.        , 0.        , 0.        , 0.        , 0.        ]])"
            ]
          },
          "metadata": {
            "tags": []
          },
          "execution_count": 28
        }
      ]
    },
    {
      "cell_type": "code",
      "metadata": {
        "id": "OE2OJ11cIMHj",
        "colab_type": "code",
        "colab": {
          "base_uri": "https://localhost:8080/",
          "height": 54
        },
        "outputId": "d551e26b-5d8e-4a59-e546-bbe6aa26a701"
      },
      "source": [
        "loaded = allLoaded[0]\n",
        "loaded.predict(mj.toarray())"
      ],
      "execution_count": null,
      "outputs": [
        {
          "output_type": "execute_result",
          "data": {
            "text/plain": [
              "array([1])"
            ]
          },
          "metadata": {
            "tags": []
          },
          "execution_count": 29
        }
      ]
    },
    {
      "cell_type": "code",
      "metadata": {
        "id": "mdg2FwaNJWyu",
        "colab_type": "code",
        "colab": {}
      },
      "source": [
        ""
      ],
      "execution_count": null,
      "outputs": []
    }
  ]
}